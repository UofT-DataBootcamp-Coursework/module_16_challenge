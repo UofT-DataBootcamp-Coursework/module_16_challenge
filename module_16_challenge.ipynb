{
  "nbformat": 4,
  "nbformat_minor": 0,
  "metadata": {
    "colab": {
      "name": "module_16_challenge.ipynb",
      "provenance": [],
      "collapsed_sections": []
    },
    "kernelspec": {
      "name": "python3",
      "display_name": "Python 3"
    }
  },
  "cells": [
    {
      "cell_type": "code",
      "metadata": {
        "id": "F027TPOp60Xr",
        "colab_type": "code",
        "colab": {
          "base_uri": "https://localhost:8080/",
          "height": 272
        },
        "outputId": "01598088-aab3-46ef-a5d0-3de750801c1b"
      },
      "source": [
        "# Install Java, Spark, and Findspark\n",
        "!apt-get update\n",
        "!apt-get install openjdk-8-jdk-headless -qq > /dev/null\n",
        "!wget -q http://www-us.apache.org/dist/spark/spark-3.0.0/spark-3.0.0-bin-hadoop2.7.tgz\n",
        "!tar xf spark-3.0.0-bin-hadoop2.7.tgz\n",
        "!pip install -q findspark\n",
        "\n",
        "# Set Environment Variables\n",
        "import os\n",
        "os.environ[\"JAVA_HOME\"] = \"/usr/lib/jvm/java-8-openjdk-amd64\"\n",
        "os.environ[\"SPARK_HOME\"] = \"/content/spark-3.0.0-bin-hadoop2.7\"\n",
        "\n",
        "# Start a SparkSession\n",
        "import findspark\n",
        "findspark.init()"
      ],
      "execution_count": null,
      "outputs": [
        {
          "output_type": "stream",
          "text": [
            "\r0% [Working]\r            \rHit:1 https://cloud.r-project.org/bin/linux/ubuntu bionic-cran35/ InRelease\n",
            "\r0% [Connecting to archive.ubuntu.com (91.189.88.142)] [Connecting to security.u\r0% [1 InRelease gpgv 3,626 B] [Connecting to archive.ubuntu.com (91.189.88.142)\r                                                                               \rIgn:2 https://developer.download.nvidia.com/compute/cuda/repos/ubuntu1804/x86_64  InRelease\n",
            "\r0% [1 InRelease gpgv 3,626 B] [Connecting to archive.ubuntu.com (91.189.88.142)\r                                                                               \rIgn:3 https://developer.download.nvidia.com/compute/machine-learning/repos/ubuntu1804/x86_64  InRelease\n",
            "\r0% [1 InRelease gpgv 3,626 B] [Connecting to archive.ubuntu.com (91.189.88.142)\r                                                                               \rHit:4 https://developer.download.nvidia.com/compute/cuda/repos/ubuntu1804/x86_64  Release\n",
            "Hit:5 https://developer.download.nvidia.com/compute/machine-learning/repos/ubuntu1804/x86_64  Release\n",
            "Hit:6 http://ppa.launchpad.net/graphics-drivers/ppa/ubuntu bionic InRelease\n",
            "Get:7 http://security.ubuntu.com/ubuntu bionic-security InRelease [88.7 kB]\n",
            "Hit:8 http://archive.ubuntu.com/ubuntu bionic InRelease\n",
            "Get:9 http://archive.ubuntu.com/ubuntu bionic-updates InRelease [88.7 kB]\n",
            "Hit:10 http://ppa.launchpad.net/marutter/c2d4u3.5/ubuntu bionic InRelease\n",
            "Get:13 http://archive.ubuntu.com/ubuntu bionic-backports InRelease [74.6 kB]\n",
            "Get:14 http://archive.ubuntu.com/ubuntu bionic-updates/universe amd64 Packages [1,413 kB]\n",
            "Get:15 http://archive.ubuntu.com/ubuntu bionic-updates/main amd64 Packages [1,334 kB]\n",
            "Fetched 2,999 kB in 3s (1,055 kB/s)\n",
            "Reading package lists... Done\n"
          ],
          "name": "stdout"
        }
      ]
    },
    {
      "cell_type": "code",
      "metadata": {
        "id": "vYp9r4bj66wV",
        "colab_type": "code",
        "colab": {
          "base_uri": "https://localhost:8080/",
          "height": 204
        },
        "outputId": "91eb0fd8-ff69-42db-f6eb-79d0dd51fff9"
      },
      "source": [
        "# Download a Postgres diver that will allow Spark to interact with Postres\n",
        "!wget https://jdbc.postgresql.org/download/postgresql-42.2.9.jar"
      ],
      "execution_count": null,
      "outputs": [
        {
          "output_type": "stream",
          "text": [
            "--2020-08-08 20:46:39--  https://jdbc.postgresql.org/download/postgresql-42.2.9.jar\n",
            "Resolving jdbc.postgresql.org (jdbc.postgresql.org)... 72.32.157.228, 2001:4800:3e1:1::228\n",
            "Connecting to jdbc.postgresql.org (jdbc.postgresql.org)|72.32.157.228|:443... connected.\n",
            "HTTP request sent, awaiting response... 200 OK\n",
            "Length: 914037 (893K) [application/java-archive]\n",
            "Saving to: ‘postgresql-42.2.9.jar.2’\n",
            "\n",
            "postgresql-42.2.9.j 100%[===================>] 892.61K  3.62MB/s    in 0.2s    \n",
            "\n",
            "2020-08-08 20:46:39 (3.62 MB/s) - ‘postgresql-42.2.9.jar.2’ saved [914037/914037]\n",
            "\n"
          ],
          "name": "stdout"
        }
      ]
    },
    {
      "cell_type": "code",
      "metadata": {
        "id": "0USH00Dk6_xF",
        "colab_type": "code",
        "colab": {}
      },
      "source": [
        "# Start a Spark session with an additional option that adds the driver to Spark\n",
        "from pyspark.sql import SparkSession\n",
        "spark = SparkSession.builder.appName(\"CloudETL\").config(\"spark.driver.extraClassPath\",\"/content/postgresql-42.2.9.jar\").getOrCreate()"
      ],
      "execution_count": null,
      "outputs": []
    },
    {
      "cell_type": "code",
      "metadata": {
        "id": "8s-BiPs_7D5b",
        "colab_type": "code",
        "colab": {
          "base_uri": "https://localhost:8080/",
          "height": 459
        },
        "outputId": "ab11f172-3fb0-4c85-c7be-3566ea0fd3b8"
      },
      "source": [
        "# Read in data from S3 Buckets - Amazon Reviews for Toys\n",
        "from pyspark import SparkFiles\n",
        "url =\"https://s3.amazonaws.com/amazon-reviews-pds/tsv/amazon_reviews_us_Toys_v1_00.tsv.gz\"\n",
        "spark.sparkContext.addFile(url)\n",
        "toy_reviews_df = spark.read.csv(SparkFiles.get(\"amazon_reviews_us_Toys_v1_00.tsv.gz\"), sep=\"\\t\", header=True, inferSchema=True)\n",
        "\n",
        "# Show DataFrame\n",
        "# toy_reviews_df.show()"
      ],
      "execution_count": null,
      "outputs": [
        {
          "output_type": "stream",
          "text": [
            "+-----------+-----------+--------------+----------+--------------+--------------------+----------------+-----------+-------------+-----------+----+-----------------+--------------------+--------------------+-----------+\n",
            "|marketplace|customer_id|     review_id|product_id|product_parent|       product_title|product_category|star_rating|helpful_votes|total_votes|vine|verified_purchase|     review_headline|         review_body|review_date|\n",
            "+-----------+-----------+--------------+----------+--------------+--------------------+----------------+-----------+-------------+-----------+----+-----------------+--------------------+--------------------+-----------+\n",
            "|         US|   18778586| RDIJS7QYB6XNR|B00EDBY7X8|     122952789|Monopoly Junior B...|            Toys|          5|            0|          0|   N|                Y|          Five Stars|        Excellent!!!| 2015-08-31|\n",
            "|         US|   24769659|R36ED1U38IELG8|B00D7JFOPC|     952062646|56 Pieces of Wood...|            Toys|          5|            0|          0|   N|                Y|Good quality trac...|Great quality woo...| 2015-08-31|\n",
            "|         US|   44331596| R1UE3RPRGCOLD|B002LHA74O|     818126353|Super Jumbo Playi...|            Toys|          2|            1|          1|   N|                Y|           Two Stars|Cards are not as ...| 2015-08-31|\n",
            "|         US|   23310293|R298788GS6I901|B00ARPLCGY|     261944918|Barbie Doll and F...|            Toys|          5|            0|          0|   N|                Y|my daughter loved...|my daughter loved...| 2015-08-31|\n",
            "|         US|   38745832|  RNX4EXOBBPN5|B00UZOPOFW|     717410439|Emazing Lights eL...|            Toys|          1|            1|          1|   N|                Y|     DONT BUY THESE!|Do not buy these!...| 2015-08-31|\n",
            "|         US|   13394189|R3BPETL222LMIM|B009B7F6CA|     873028700|Melissa & Doug Wa...|            Toys|          5|            0|          0|   N|                Y|          Five Stars|Great item. Pictu...| 2015-08-31|\n",
            "|         US|    2749569|R3SORMPJZO3F2J|B0101EHRSM|     723424342|Big Bang Cosmic P...|            Toys|          3|            2|          2|   N|                Y|         Three Stars|To keep together,...| 2015-08-31|\n",
            "|         US|   41137196|R2RDOJQ0WBZCF6|B00407S11Y|     383363775|Fun Express Insec...|            Toys|          5|            0|          0|   N|                Y|          Five Stars|I was pleased wit...| 2015-08-31|\n",
            "|         US|     433677|R2B8VBEPB4YEZ7|B00FGPU7U2|     780517568|Fisher-Price Octo...|            Toys|          5|            0|          0|   N|                Y|          Five Stars|    Children like it| 2015-08-31|\n",
            "|         US|    1297934|R1CB783I7B0U52|B0013OY0S0|     269360126|Claw Climber Goli...|            Toys|          1|            0|          1|   N|                Y|Shame on the sell...|Showed up not how...| 2015-08-31|\n",
            "|         US|   52006292| R2D90RQQ3V8LH|B00519PJTW|     493486387|100 Foot Multicol...|            Toys|          5|            0|          0|   N|                Y|          Five Stars|Really liked thes...| 2015-08-31|\n",
            "|         US|   32071052|R1Y4ZOUGFMJ327|B001TCY2DO|     459122467|Pig Jumbo Foil Ba...|            Toys|          5|            0|          0|   N|                Y|   Nice huge balloon|Nice huge balloon...| 2015-08-31|\n",
            "|         US|    7360347|R2BUV9QJI2A00X|B00DOQCWF8|     226984155|Minecraft Animal ...|            Toys|          5|            0|          1|   N|                Y|          Five Stars|          Great deal| 2015-08-31|\n",
            "|         US|   11613707| RSUHRJFJIRB3Z|B004C04I4I|     375659886|Disney Baby: Eeyo...|            Toys|          4|            0|          0|   N|                Y|          Four Stars|       As Advertised| 2015-08-31|\n",
            "|         US|   13545982|R1T96CG98BBA15|B00NWGEKBY|     933734136|Team Losi 8IGHT-E...|            Toys|          3|            2|          4|   N|                Y|... servo so expe...|Comes w a 15$ ser...| 2015-08-31|\n",
            "|         US|   43880421| R2ATXF4QQ30YW|B00000JS5S|     341842639|Hot Wheels 48- Ca...|            Toys|          5|            0|          0|   N|                Y|          Five Stars|   awesome ! Thanks!| 2015-08-31|\n",
            "|         US|    1662075|R1YS3DS218NNMD|B00XPWXYDK|     210135375|ZuZo 2.4GHz 4 CH ...|            Toys|          5|            4|          4|   N|                N|The closest relev...|I got this item f...| 2015-08-31|\n",
            "|         US|   18461411|R2SDXLTLF92O0H|B00VPXX92W|     705054378|Teenage Mutant Ni...|            Toys|          5|            0|          0|   N|                Y|          Five Stars|It was a birthday...| 2015-08-31|\n",
            "|         US|   27225859| R4R337CCDWLNG|B00YRA3H4U|     223420727|Franklin Sports M...|            Toys|          3|            0|          1|   Y|                N|Got wrong product...|Got a wrong produ...| 2015-08-31|\n",
            "|         US|   20494593|R32Z6UA4S5Q630|B009T8BSQY|     787701676|Alien Frontiers: ...|            Toys|          1|            0|          0|   N|                Y|         Overpriced.|You need expansio...| 2015-08-31|\n",
            "+-----------+-----------+--------------+----------+--------------+--------------------+----------------+-----------+-------------+-----------+----+-----------------+--------------------+--------------------+-----------+\n",
            "only showing top 20 rows\n",
            "\n"
          ],
          "name": "stdout"
        }
      ]
    },
    {
      "cell_type": "code",
      "metadata": {
        "id": "Uwz37xDd-Nm3",
        "colab_type": "code",
        "colab": {
          "base_uri": "https://localhost:8080/",
          "height": 34
        },
        "outputId": "29d6b1f8-a015-4825-e8cd-a4cec57bb1f9"
      },
      "source": [
        "# review number of rows within DataFrame - pre transform\n",
        "toy_reviews_df.count()"
      ],
      "execution_count": null,
      "outputs": [
        {
          "output_type": "execute_result",
          "data": {
            "text/plain": [
              "4864249"
            ]
          },
          "metadata": {
            "tags": []
          },
          "execution_count": 5
        }
      ]
    },
    {
      "cell_type": "code",
      "metadata": {
        "id": "jsMHu7ZO9uoq",
        "colab_type": "code",
        "colab": {
          "base_uri": "https://localhost:8080/",
          "height": 459
        },
        "outputId": "3cb4e99d-3d5e-4ab6-9184-883736b3240b"
      },
      "source": [
        "# Drop null values\n",
        "dropna_toy_df = toy_reviews_df.dropna()\n",
        "# dropna_toy_df.show()"
      ],
      "execution_count": null,
      "outputs": [
        {
          "output_type": "stream",
          "text": [
            "+-----------+-----------+--------------+----------+--------------+--------------------+----------------+-----------+-------------+-----------+----+-----------------+--------------------+--------------------+-----------+\n",
            "|marketplace|customer_id|     review_id|product_id|product_parent|       product_title|product_category|star_rating|helpful_votes|total_votes|vine|verified_purchase|     review_headline|         review_body|review_date|\n",
            "+-----------+-----------+--------------+----------+--------------+--------------------+----------------+-----------+-------------+-----------+----+-----------------+--------------------+--------------------+-----------+\n",
            "|         US|   18778586| RDIJS7QYB6XNR|B00EDBY7X8|     122952789|Monopoly Junior B...|            Toys|          5|            0|          0|   N|                Y|          Five Stars|        Excellent!!!| 2015-08-31|\n",
            "|         US|   24769659|R36ED1U38IELG8|B00D7JFOPC|     952062646|56 Pieces of Wood...|            Toys|          5|            0|          0|   N|                Y|Good quality trac...|Great quality woo...| 2015-08-31|\n",
            "|         US|   44331596| R1UE3RPRGCOLD|B002LHA74O|     818126353|Super Jumbo Playi...|            Toys|          2|            1|          1|   N|                Y|           Two Stars|Cards are not as ...| 2015-08-31|\n",
            "|         US|   23310293|R298788GS6I901|B00ARPLCGY|     261944918|Barbie Doll and F...|            Toys|          5|            0|          0|   N|                Y|my daughter loved...|my daughter loved...| 2015-08-31|\n",
            "|         US|   38745832|  RNX4EXOBBPN5|B00UZOPOFW|     717410439|Emazing Lights eL...|            Toys|          1|            1|          1|   N|                Y|     DONT BUY THESE!|Do not buy these!...| 2015-08-31|\n",
            "|         US|   13394189|R3BPETL222LMIM|B009B7F6CA|     873028700|Melissa & Doug Wa...|            Toys|          5|            0|          0|   N|                Y|          Five Stars|Great item. Pictu...| 2015-08-31|\n",
            "|         US|    2749569|R3SORMPJZO3F2J|B0101EHRSM|     723424342|Big Bang Cosmic P...|            Toys|          3|            2|          2|   N|                Y|         Three Stars|To keep together,...| 2015-08-31|\n",
            "|         US|   41137196|R2RDOJQ0WBZCF6|B00407S11Y|     383363775|Fun Express Insec...|            Toys|          5|            0|          0|   N|                Y|          Five Stars|I was pleased wit...| 2015-08-31|\n",
            "|         US|     433677|R2B8VBEPB4YEZ7|B00FGPU7U2|     780517568|Fisher-Price Octo...|            Toys|          5|            0|          0|   N|                Y|          Five Stars|    Children like it| 2015-08-31|\n",
            "|         US|    1297934|R1CB783I7B0U52|B0013OY0S0|     269360126|Claw Climber Goli...|            Toys|          1|            0|          1|   N|                Y|Shame on the sell...|Showed up not how...| 2015-08-31|\n",
            "|         US|   52006292| R2D90RQQ3V8LH|B00519PJTW|     493486387|100 Foot Multicol...|            Toys|          5|            0|          0|   N|                Y|          Five Stars|Really liked thes...| 2015-08-31|\n",
            "|         US|   32071052|R1Y4ZOUGFMJ327|B001TCY2DO|     459122467|Pig Jumbo Foil Ba...|            Toys|          5|            0|          0|   N|                Y|   Nice huge balloon|Nice huge balloon...| 2015-08-31|\n",
            "|         US|    7360347|R2BUV9QJI2A00X|B00DOQCWF8|     226984155|Minecraft Animal ...|            Toys|          5|            0|          1|   N|                Y|          Five Stars|          Great deal| 2015-08-31|\n",
            "|         US|   11613707| RSUHRJFJIRB3Z|B004C04I4I|     375659886|Disney Baby: Eeyo...|            Toys|          4|            0|          0|   N|                Y|          Four Stars|       As Advertised| 2015-08-31|\n",
            "|         US|   13545982|R1T96CG98BBA15|B00NWGEKBY|     933734136|Team Losi 8IGHT-E...|            Toys|          3|            2|          4|   N|                Y|... servo so expe...|Comes w a 15$ ser...| 2015-08-31|\n",
            "|         US|   43880421| R2ATXF4QQ30YW|B00000JS5S|     341842639|Hot Wheels 48- Ca...|            Toys|          5|            0|          0|   N|                Y|          Five Stars|   awesome ! Thanks!| 2015-08-31|\n",
            "|         US|    1662075|R1YS3DS218NNMD|B00XPWXYDK|     210135375|ZuZo 2.4GHz 4 CH ...|            Toys|          5|            4|          4|   N|                N|The closest relev...|I got this item f...| 2015-08-31|\n",
            "|         US|   18461411|R2SDXLTLF92O0H|B00VPXX92W|     705054378|Teenage Mutant Ni...|            Toys|          5|            0|          0|   N|                Y|          Five Stars|It was a birthday...| 2015-08-31|\n",
            "|         US|   27225859| R4R337CCDWLNG|B00YRA3H4U|     223420727|Franklin Sports M...|            Toys|          3|            0|          1|   Y|                N|Got wrong product...|Got a wrong produ...| 2015-08-31|\n",
            "|         US|   20494593|R32Z6UA4S5Q630|B009T8BSQY|     787701676|Alien Frontiers: ...|            Toys|          1|            0|          0|   N|                Y|         Overpriced.|You need expansio...| 2015-08-31|\n",
            "+-----------+-----------+--------------+----------+--------------+--------------------+----------------+-----------+-------------+-----------+----+-----------------+--------------------+--------------------+-----------+\n",
            "only showing top 20 rows\n",
            "\n"
          ],
          "name": "stdout"
        }
      ]
    },
    {
      "cell_type": "code",
      "metadata": {
        "id": "ZR8U8ZYdLnEr",
        "colab_type": "code",
        "colab": {
          "base_uri": "https://localhost:8080/",
          "height": 459
        },
        "outputId": "7988e863-0431-42ce-e160-36cbfc442d1a"
      },
      "source": [
        "# Drop duplicate rows\n",
        "drop_duplicates_toy_df = dropna_toy_df.dropDuplicates()\n",
        "# drop_duplicates_toy_df.show()"
      ],
      "execution_count": null,
      "outputs": [
        {
          "output_type": "stream",
          "text": [
            "+-----------+-----------+--------------+----------+--------------+--------------------+----------------+-----------+-------------+-----------+----+-----------------+--------------------+--------------------+-----------+\n",
            "|marketplace|customer_id|     review_id|product_id|product_parent|       product_title|product_category|star_rating|helpful_votes|total_votes|vine|verified_purchase|     review_headline|         review_body|review_date|\n",
            "+-----------+-----------+--------------+----------+--------------+--------------------+----------------+-----------+-------------+-----------+----+-----------------+--------------------+--------------------+-----------+\n",
            "|         US|      10085| RZXZZV7REJMVC|B002YPE1MM|      36616636|BMW Plush Bear Cr...|            Toys|          5|            2|          2|   N|                Y|THE BEST BEAR EVE...|Recently bought t...| 2013-07-23|\n",
            "|         US|      11628|R1JP55UFEGJN8X|B0017H07IU|     146857225|      Royal Cribbage|            Toys|          5|            0|          0|   N|                Y|It's just a great...|It's just a well ...| 2013-06-13|\n",
            "|         US|      12937|R3A7MKMD5EZ4W3|B00MVV114A|     413343234|Fisher-Price Bubb...|            Toys|          5|            0|          0|   N|                Y|Awesome bubble ac...|Lawn mower is gre...| 2015-06-07|\n",
            "|         US|      13330|R1JRDP9VJFXFZ6|B0058LT9O4|     284768315|Bandai Usopp (New...|            Toys|          5|            0|          0|   N|                Y|        Great Figure|This figure is re...| 2015-07-03|\n",
            "|         US|      14578| RPCFLJHJWWQIT|B00ERU9VPY|     516199598|NEW Traxxas Revo ...|            Toys|          5|            0|          0|   N|                Y|Works great and s...|Works great and s...| 2015-02-22|\n",
            "|         US|      15335|R2I6G40JFJ1SPC|B00GK5XNJO|     739198872|Max Steel Vehicle...|            Toys|          5|            1|          1|   N|                Y|          Five Stars|Excellent product...| 2015-01-20|\n",
            "|         US|      15520|R2M4JW7A54AUH2|B00F8QDGGG|     268342368|Little Tikes Ulti...|            Toys|          5|            0|          0|   N|                Y|          Five Stars|Yes made my expec...| 2015-02-13|\n",
            "|         US|      16638| RYSQ3ODNTQQQX|B009VN3644|     868043491|DC Universe Justi...|            Toys|          5|            0|          0|   N|                Y|We loved the Just...|My kids loved thi...| 2014-01-11|\n",
            "|         US|      19107| RHIBXPP5SD2T5|B001539ICW|      49163138|Manhattan Toy Boi...|            Toys|          5|            0|          0|   N|                Y|          Five Stars|                  a+| 2015-01-05|\n",
            "|         US|      22926|R35UHK0TM7SUHM|B00B7T6MDC|      94225835|KyoryuJya Kamitsu...|            Toys|          5|            3|          3|   N|                Y|  Kyoyujin Is AWSOME|I really love thi...| 2014-02-08|\n",
            "|         US|      27539|R3F42L9GZNBHMZ|B005MDVH4I|      75193951|Fanboy Chum Chum ...|            Toys|          3|            0|          0|   N|                Y|                 Nah|Just a normal lit...| 2013-12-21|\n",
            "|         US|      32355|R32VHLWMLD8I3A|B001G9YFXM|     512498518|Manhattan Toy Win...|            Toys|          5|            0|          0|   N|                Y|3 Month Old Loves...|I purchased this ...| 2014-03-26|\n",
            "|         US|      32551| REHNMXXAXIZ9D|B0010YZKDM|     615390341|Lot of 100 Mint Y...|            Toys|          5|            0|          0|   N|                Y|          Five Stars|                  :)| 2015-03-05|\n",
            "|         US|      35811|R1S0M0AMAWLKGL|B00J7RV218|     337000663|Laser Pegs 12 in ...|            Toys|          5|            2|          2|   N|                Y|          Five Stars|This was a wonder...| 2015-02-04|\n",
            "|         US|      48596| R37UT9PRH08OZ|B00O96P1EG|     969267115|WWE Basic Figure ...|            Toys|          5|            0|          0|   N|                Y|          Very happy|   Very happy...!!!!| 2015-01-02|\n",
            "|         US|      53126|R2JGKOIHL9QPSG|B00JYD5AJK|      91480195|Frozen Olaf's in ...|            Toys|          5|            0|          0|   N|                Y|          Five Stars|              I LIKE| 2015-04-21|\n",
            "|         US|      54524| RDA452HESWWA2|B00C6PWX02|     392795967|Monster High Musi...|            Toys|          5|            0|          0|   N|                N|       Awesome doll!|Me and my daughte...| 2014-01-26|\n",
            "|         US|      54874|R3K14O6MVN6M81|B000FK3WDC|     202062456|Multi Voice Chang...|            Toys|          3|            0|          0|   N|                Y|           great fun|bought for an adu...| 2013-01-05|\n",
            "|         US|      56254| RRQDHB26IYRYI|B009RV73SA|     323704881|Electric Full Fun...|            Toys|          4|            1|          2|   N|                Y|          Four Stars|     Fun little car!| 2014-07-28|\n",
            "|         US|      59286| RO7VBBYW2L4L4|B00DJTGORM|     170623574|ZOIDS 30th annive...|            Toys|          5|            0|          0|   N|                N|Better than expected|Very fun and simp...| 2015-03-26|\n",
            "+-----------+-----------+--------------+----------+--------------+--------------------+----------------+-----------+-------------+-----------+----+-----------------+--------------------+--------------------+-----------+\n",
            "only showing top 20 rows\n",
            "\n"
          ],
          "name": "stdout"
        }
      ]
    },
    {
      "cell_type": "code",
      "metadata": {
        "id": "GlUpErdz-Ycj",
        "colab_type": "code",
        "colab": {
          "base_uri": "https://localhost:8080/",
          "height": 34
        },
        "outputId": "486375e7-f1c9-4987-f5c8-31cf87d264e9"
      },
      "source": [
        "# review number of rows within DataFrame - post transform\n",
        "drop_duplicates_toy_df.count()"
      ],
      "execution_count": null,
      "outputs": [
        {
          "output_type": "execute_result",
          "data": {
            "text/plain": [
              "4863497"
            ]
          },
          "metadata": {
            "tags": []
          },
          "execution_count": 8
        }
      ]
    },
    {
      "cell_type": "code",
      "metadata": {
        "id": "2imT16x2dtKJ",
        "colab_type": "code",
        "colab": {
          "base_uri": "https://localhost:8080/",
          "height": 272
        },
        "outputId": "91eb073e-714d-49c4-edde-9072bd05ce48"
      },
      "source": [
        "# review data types\n",
        "drop_duplicates_toy_df.dtypes"
      ],
      "execution_count": null,
      "outputs": [
        {
          "output_type": "execute_result",
          "data": {
            "text/plain": [
              "[('marketplace', 'string'),\n",
              " ('customer_id', 'int'),\n",
              " ('review_id', 'string'),\n",
              " ('product_id', 'string'),\n",
              " ('product_parent', 'int'),\n",
              " ('product_title', 'string'),\n",
              " ('product_category', 'string'),\n",
              " ('star_rating', 'int'),\n",
              " ('helpful_votes', 'int'),\n",
              " ('total_votes', 'int'),\n",
              " ('vine', 'string'),\n",
              " ('verified_purchase', 'string'),\n",
              " ('review_headline', 'string'),\n",
              " ('review_body', 'string'),\n",
              " ('review_date', 'string')]"
            ]
          },
          "metadata": {
            "tags": []
          },
          "execution_count": 9
        }
      ]
    },
    {
      "cell_type": "code",
      "metadata": {
        "id": "MAaz2V5uOON5",
        "colab_type": "code",
        "colab": {}
      },
      "source": [
        "# Load in a sql function to use columns\n",
        "from pyspark.sql.functions import col, to_date"
      ],
      "execution_count": null,
      "outputs": []
    },
    {
      "cell_type": "code",
      "metadata": {
        "id": "-_PEhWSqeC3L",
        "colab_type": "code",
        "colab": {
          "base_uri": "https://localhost:8080/",
          "height": 34
        },
        "outputId": "b4f6214c-89b1-4130-a2c7-e2c3ba596616"
      },
      "source": [
        "# identified incorrect data type - convert review_date to date (currently string) - test code\n",
        "# updated_datatypes = drop_duplicates_toy_df.select(to_date(\"review_date\",\"yyyy-MM-dd\").alias('review_date'))\n",
        "# updated_datatypes.dtypes"
      ],
      "execution_count": null,
      "outputs": [
        {
          "output_type": "execute_result",
          "data": {
            "text/plain": [
              "[('review_date', 'date')]"
            ]
          },
          "metadata": {
            "tags": []
          },
          "execution_count": 11
        }
      ]
    },
    {
      "cell_type": "code",
      "metadata": {
        "id": "PLC3MUC_OR-F",
        "colab_type": "code",
        "colab": {
          "base_uri": "https://localhost:8080/",
          "height": 476
        },
        "outputId": "df8c89dc-0a0c-4ea8-92cf-2d2a953c45b9"
      },
      "source": [
        "# Create DataFrame to match review_id_table\n",
        "review_id_df = drop_duplicates_toy_df.select([\"review_id\",\"customer_id\", \"product_id\", \"product_parent\", to_date(\"review_date\",\"yyyy-MM-dd\").alias('review_date')])\n",
        "print(review_id_df.dtypes)\n",
        "# review_id_df.show()"
      ],
      "execution_count": null,
      "outputs": [
        {
          "output_type": "stream",
          "text": [
            "[('review_id', 'string'), ('customer_id', 'int'), ('product_id', 'string'), ('product_parent', 'int'), ('review_date', 'date')]\n",
            "+--------------+-----------+----------+--------------+-----------+\n",
            "|     review_id|customer_id|product_id|product_parent|review_date|\n",
            "+--------------+-----------+----------+--------------+-----------+\n",
            "| RZXZZV7REJMVC|      10085|B002YPE1MM|      36616636| 2013-07-23|\n",
            "|R1JP55UFEGJN8X|      11628|B0017H07IU|     146857225| 2013-06-13|\n",
            "|R3A7MKMD5EZ4W3|      12937|B00MVV114A|     413343234| 2015-06-07|\n",
            "|R1JRDP9VJFXFZ6|      13330|B0058LT9O4|     284768315| 2015-07-03|\n",
            "| RPCFLJHJWWQIT|      14578|B00ERU9VPY|     516199598| 2015-02-22|\n",
            "|R2I6G40JFJ1SPC|      15335|B00GK5XNJO|     739198872| 2015-01-20|\n",
            "|R2M4JW7A54AUH2|      15520|B00F8QDGGG|     268342368| 2015-02-13|\n",
            "| RYSQ3ODNTQQQX|      16638|B009VN3644|     868043491| 2014-01-11|\n",
            "| RHIBXPP5SD2T5|      19107|B001539ICW|      49163138| 2015-01-05|\n",
            "|R35UHK0TM7SUHM|      22926|B00B7T6MDC|      94225835| 2014-02-08|\n",
            "|R3F42L9GZNBHMZ|      27539|B005MDVH4I|      75193951| 2013-12-21|\n",
            "|R32VHLWMLD8I3A|      32355|B001G9YFXM|     512498518| 2014-03-26|\n",
            "| REHNMXXAXIZ9D|      32551|B0010YZKDM|     615390341| 2015-03-05|\n",
            "|R1S0M0AMAWLKGL|      35811|B00J7RV218|     337000663| 2015-02-04|\n",
            "| R37UT9PRH08OZ|      48596|B00O96P1EG|     969267115| 2015-01-02|\n",
            "|R2JGKOIHL9QPSG|      53126|B00JYD5AJK|      91480195| 2015-04-21|\n",
            "| RDA452HESWWA2|      54524|B00C6PWX02|     392795967| 2014-01-26|\n",
            "|R3K14O6MVN6M81|      54874|B000FK3WDC|     202062456| 2013-01-05|\n",
            "| RRQDHB26IYRYI|      56254|B009RV73SA|     323704881| 2014-07-28|\n",
            "| RO7VBBYW2L4L4|      59286|B00DJTGORM|     170623574| 2015-03-26|\n",
            "+--------------+-----------+----------+--------------+-----------+\n",
            "only showing top 20 rows\n",
            "\n"
          ],
          "name": "stdout"
        }
      ]
    },
    {
      "cell_type": "code",
      "metadata": {
        "id": "zFLxvqWGO7PP",
        "colab_type": "code",
        "colab": {
          "base_uri": "https://localhost:8080/",
          "height": 459
        },
        "outputId": "b072470f-07cf-4b41-a397-fd8c6330dbd3"
      },
      "source": [
        "# Create DataFrame to match customers table\n",
        "customer = drop_duplicates_toy_df.groupBy(\"customer_id\").count() \n",
        "customer_df = customer.withColumnRenamed(\"count\",\"customer_count\")\n",
        "# customer_df.show()"
      ],
      "execution_count": null,
      "outputs": [
        {
          "output_type": "stream",
          "text": [
            "+-----------+--------------+\n",
            "|customer_id|customer_count|\n",
            "+-----------+--------------+\n",
            "|    1342030|             2|\n",
            "|    2239429|             2|\n",
            "|    2300450|             1|\n",
            "|    2776943|             2|\n",
            "|    3339856|             1|\n",
            "|    4080618|             1|\n",
            "|    5343647|             4|\n",
            "|    5894286|             1|\n",
            "|    7455053|            22|\n",
            "|   10458870|             2|\n",
            "|   10548283|            46|\n",
            "|   10854449|             9|\n",
            "|   11114447|             1|\n",
            "|   11118822|             1|\n",
            "|   11205154|             1|\n",
            "|   11583167|             3|\n",
            "|   11769593|             1|\n",
            "|   11853634|             3|\n",
            "|   12152570|            11|\n",
            "|   12611201|             3|\n",
            "+-----------+--------------+\n",
            "only showing top 20 rows\n",
            "\n"
          ],
          "name": "stdout"
        }
      ]
    },
    {
      "cell_type": "code",
      "metadata": {
        "id": "T_7UdriuO7bl",
        "colab_type": "code",
        "colab": {
          "base_uri": "https://localhost:8080/",
          "height": 459
        },
        "outputId": "2a0f07a8-9a78-469f-8ad4-f820aacd2930"
      },
      "source": [
        "# Create DataFrame to match products table\n",
        "products = drop_duplicates_toy_df.select([\"product_id\", \"product_title\"])\n",
        "products_df = products.dropDuplicates(['product_id'])\n",
        "products_df.show()"
      ],
      "execution_count": null,
      "outputs": [
        {
          "output_type": "stream",
          "text": [
            "+----------+--------------------+\n",
            "|product_id|       product_title|\n",
            "+----------+--------------------+\n",
            "|0545449359|Klutz Fashion For...|\n",
            "|0615394124|     füdoo Board Kit|\n",
            "|0615881386|The Revised Crisw...|\n",
            "|0735328757|Mudpuppy Butterfl...|\n",
            "|0764955063|The Square of St....|\n",
            "|0890100039|Kalmbach Building...|\n",
            "|0954840526|World Prehistoric...|\n",
            "|0966257545|Ladybug Game NEW ...|\n",
            "|0972428232| Conversations to Go|\n",
            "|0980345553|Art of Conversati...|\n",
            "|0982757751|World of Harmony ...|\n",
            "|0988179024|All Quiet on the ...|\n",
            "|1409582485|Listen and Learn ...|\n",
            "|1554841615|     Cat Smarts Game|\n",
            "|1556345542|Munchkin 2 - Unna...|\n",
            "|1567677037|Hot Dots Let’s Le...|\n",
            "|1572158700|Cat in the Hat Gi...|\n",
            "|1579823645|MerryMakers Pete ...|\n",
            "|1585640514|Star Fleet Battle...|\n",
            "|1589941411|     War of the Ring|\n",
            "+----------+--------------------+\n",
            "only showing top 20 rows\n",
            "\n"
          ],
          "name": "stdout"
        }
      ]
    },
    {
      "cell_type": "code",
      "metadata": {
        "id": "FCEjyabrO71u",
        "colab_type": "code",
        "colab": {
          "base_uri": "https://localhost:8080/",
          "height": 459
        },
        "outputId": "ecbb0b34-a960-441d-d4b9-8c7544f2264e"
      },
      "source": [
        "# Create DataFrame to match vine_table\n",
        "vine_df = drop_duplicates_toy_df.select([\"review_id\",\"star_rating\", \"helpful_votes\", \"total_votes\", \"vine\"])\n",
        "# vine_df.show()"
      ],
      "execution_count": null,
      "outputs": [
        {
          "output_type": "stream",
          "text": [
            "+--------------+-----------+-------------+-----------+----+\n",
            "|     review_id|star_rating|helpful_votes|total_votes|vine|\n",
            "+--------------+-----------+-------------+-----------+----+\n",
            "| RZXZZV7REJMVC|          5|            2|          2|   N|\n",
            "|R1JP55UFEGJN8X|          5|            0|          0|   N|\n",
            "|R3A7MKMD5EZ4W3|          5|            0|          0|   N|\n",
            "|R1JRDP9VJFXFZ6|          5|            0|          0|   N|\n",
            "| RPCFLJHJWWQIT|          5|            0|          0|   N|\n",
            "|R2I6G40JFJ1SPC|          5|            1|          1|   N|\n",
            "|R2M4JW7A54AUH2|          5|            0|          0|   N|\n",
            "| RYSQ3ODNTQQQX|          5|            0|          0|   N|\n",
            "| RHIBXPP5SD2T5|          5|            0|          0|   N|\n",
            "|R35UHK0TM7SUHM|          5|            3|          3|   N|\n",
            "|R3F42L9GZNBHMZ|          3|            0|          0|   N|\n",
            "|R32VHLWMLD8I3A|          5|            0|          0|   N|\n",
            "| REHNMXXAXIZ9D|          5|            0|          0|   N|\n",
            "|R1S0M0AMAWLKGL|          5|            2|          2|   N|\n",
            "| R37UT9PRH08OZ|          5|            0|          0|   N|\n",
            "|R2JGKOIHL9QPSG|          5|            0|          0|   N|\n",
            "| RDA452HESWWA2|          5|            0|          0|   N|\n",
            "|R3K14O6MVN6M81|          3|            0|          0|   N|\n",
            "| RRQDHB26IYRYI|          4|            1|          2|   N|\n",
            "| RO7VBBYW2L4L4|          5|            0|          0|   N|\n",
            "+--------------+-----------+-------------+-----------+----+\n",
            "only showing top 20 rows\n",
            "\n"
          ],
          "name": "stdout"
        }
      ]
    },
    {
      "cell_type": "code",
      "metadata": {
        "id": "bh270SNizZOe",
        "colab_type": "code",
        "colab": {}
      },
      "source": [
        "# Configure settings for RDS\n",
        "mode = \"append\"\n",
        "jdbc_url=\"jdbc:postgresql://module-16-challenge.c2n1k7qoxf6t.us-east-1.rds.amazonaws.com:5432/postgres\"\n",
        "config = {\"user\":\"postgres\", \n",
        "          \"password\": \"-->password<--\", \n",
        "          \"driver\":\"org.postgresql.Driver\"}"
      ],
      "execution_count": null,
      "outputs": []
    },
    {
      "cell_type": "code",
      "metadata": {
        "id": "DcG4ciwf0BZ6",
        "colab_type": "code",
        "colab": {}
      },
      "source": [
        "# Write DataFrame to review_id table in RDS\n",
        "review_id_df.write.jdbc(url=jdbc_url, table='review_id_table', mode=mode, properties=config)"
      ],
      "execution_count": null,
      "outputs": []
    },
    {
      "cell_type": "code",
      "metadata": {
        "id": "QNswW07C0Bi3",
        "colab_type": "code",
        "colab": {}
      },
      "source": [
        "# Write DataFrame to products table in RDS\n",
        "products_df.write.jdbc(url=jdbc_url, table='products', mode=mode, properties=config)"
      ],
      "execution_count": null,
      "outputs": []
    },
    {
      "cell_type": "code",
      "metadata": {
        "id": "l5a2oasI0Boz",
        "colab_type": "code",
        "colab": {}
      },
      "source": [
        "# Write DataFrame to customers table in RDS\n",
        "customer_df.write.jdbc(url=jdbc_url, table='customers', mode=mode, properties=config)"
      ],
      "execution_count": null,
      "outputs": []
    },
    {
      "cell_type": "code",
      "metadata": {
        "id": "QSYiNX9w0Bvw",
        "colab_type": "code",
        "colab": {}
      },
      "source": [
        "# Write DataFrame to vine_table table in RDS\n",
        "vine_df.write.jdbc(url=jdbc_url, table='vine_table', mode=mode, properties=config)"
      ],
      "execution_count": null,
      "outputs": []
    }
  ]
}